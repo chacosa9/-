{
  "nbformat": 4,
  "nbformat_minor": 0,
  "metadata": {
    "colab": {
      "provenance": [],
      "authorship_tag": "ABX9TyMfjuUY9xW/TG67EJ+FRqW9",
      "include_colab_link": true
    },
    "kernelspec": {
      "name": "python3",
      "display_name": "Python 3"
    },
    "language_info": {
      "name": "python"
    }
  },
  "cells": [
    {
      "cell_type": "markdown",
      "metadata": {
        "id": "view-in-github",
        "colab_type": "text"
      },
      "source": [
        "<a href=\"https://colab.research.google.com/github/chacosa9/-/blob/main/gif_project.ipynb\" target=\"_parent\"><img src=\"https://colab.research.google.com/assets/colab-badge.svg\" alt=\"Open In Colab\"/></a>"
      ]
    },
    {
      "cell_type": "code",
      "execution_count": null,
      "metadata": {
        "colab": {
          "base_uri": "https://localhost:8080/"
        },
        "id": "WKz0CBVyZ-ns",
        "outputId": "5ce11f0e-65f9-4f6e-ad69-3e65498282b2"
      },
      "outputs": [
        {
          "output_type": "stream",
          "name": "stdout",
          "text": [
            "Requirement already satisfied: imageio in /usr/local/lib/python3.11/dist-packages (2.37.0)\n",
            "Requirement already satisfied: numpy in /usr/local/lib/python3.11/dist-packages (from imageio) (1.26.4)\n",
            "Requirement already satisfied: pillow>=8.3.2 in /usr/local/lib/python3.11/dist-packages (from imageio) (11.1.0)\n"
          ]
        }
      ],
      "source": [
        "!pip install imageio #import imageio"
      ]
    },
    {
      "cell_type": "code",
      "source": [
        "import imageio.v3 as iio"
      ],
      "metadata": {
        "id": "-hsF5Gd2aJfO"
      },
      "execution_count": null,
      "outputs": []
    },
    {
      "cell_type": "code",
      "source": [
        "filenames = ['team-pic1.png','team-pic2.png']\n",
        "images = [ ]\n",
        "\n",
        "for filenames in filenames:\n",
        "  images.append(iio.imread(filenames)) #The .imread() method loads an image based on the file path. So now, our images variable has all the images!"
      ],
      "metadata": {
        "id": "wNeN0JRyaThd"
      },
      "execution_count": null,
      "outputs": []
    },
    {
      "cell_type": "code",
      "source": [
        "iio.imwrite('team.gif', images, duration = 500 , loop = 0) #.imwrite() method to turn the images into a GIF:"
      ],
      "metadata": {
        "id": "dtRZ7TTbbLKO"
      },
      "execution_count": null,
      "outputs": []
    }
  ]
}